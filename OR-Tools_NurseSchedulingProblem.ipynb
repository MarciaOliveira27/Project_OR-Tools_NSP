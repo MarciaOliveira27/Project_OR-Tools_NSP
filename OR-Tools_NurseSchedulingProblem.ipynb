{
 "cells": [
  {
   "attachments": {},
   "cell_type": "markdown",
   "metadata": {},
   "source": [
    "### __Create a nurse scheduling problem and solve it__"
   ]
  },
  {
   "attachments": {},
   "cell_type": "markdown",
   "metadata": {},
   "source": [
    "#### 1. Import the libraries"
   ]
  },
  {
   "attachments": {},
   "cell_type": "markdown",
   "metadata": {},
   "source": [
    "Import the required library:"
   ]
  },
  {
   "cell_type": "code",
   "execution_count": 1,
   "metadata": {},
   "outputs": [],
   "source": [
    "from ortools.sat.python import cp_model"
   ]
  },
  {
   "attachments": {},
   "cell_type": "markdown",
   "metadata": {},
   "source": [
    "#### 2. Data"
   ]
  },
  {
   "attachments": {},
   "cell_type": "markdown",
   "metadata": {},
   "source": [
    "Create the data for the example:"
   ]
  },
  {
   "cell_type": "code",
   "execution_count": 2,
   "metadata": {},
   "outputs": [],
   "source": [
    "num_nurses = 10        #number of nurses - 10\n",
    "num_shifts = 3        #number of shifts - 3\n",
    "num_days = 7          #number of days  - 7\n",
    "all_nurses = range(num_nurses)    #sequence of number of nurses (0, 1, 2, 3, 4, 5, 6, 7, 8 e 9)\n",
    "all_shifts = range(num_shifts)    #sequence of number of shifts (0, 1 e 2)\n",
    "all_days = range(num_days)        #sequence of number of days (0, 1, 2, 3, 4, 5 e 6)"
   ]
  },
  {
   "cell_type": "code",
   "execution_count": 3,
   "metadata": {},
   "outputs": [],
   "source": [
    "shift_requests = [[[0, 0, 0], [0, 0, 0], [0, 0, 0], [0, 0, 0], [0, 0, 0],\n",
    "                   [0, 0, 0], [0, 0, 0]],\n",
    "                  [[0, 0, 0], [0, 0, 0], [0, 0, 0], [0, 0, 0], [0, 1, 0],\n",
    "                   [0, 0, 0], [0, 0, 0]],\n",
    "                  [[0, 0, 0], [0, 0, 0], [0, 0, 0], [0, 0, 0], [0, 0, 0],\n",
    "                   [0, 0, 0], [0, 0, 0]],\n",
    "                  [[0, 0, 0], [0, 0, 0], [0, 0, 0], [0, 0, 0], [0, 0, 0],\n",
    "                   [0, 0, 0], [0, 0, 0]],\n",
    "                  [[0, 0, 0], [0, 0, 0], [0, 0, 0], [0, 0, 0], [0, 0, 0],\n",
    "                   [0, 0, 0], [0, 0, 0]],\n",
    "                  [[0, 0, 0], [0, 0, 0], [0, 0, 0], [0, 0, 0], [0, 0, 0],\n",
    "                   [0, 0, 0], [0, 0, 0]],\n",
    "                  [[0, 0, 0], [0, 0, 0], [0, 0, 0], [0, 0, 0], [0, 0, 0],\n",
    "                   [0, 0, 0], [0, 0, 0]],\n",
    "                  [[0, 0, 0], [0, 0, 0], [0, 0, 0], [0, 0, 0], [0, 0, 0],\n",
    "                   [0, 0, 0], [0, 0, 0]],\n",
    "                  [[0, 0, 0], [0, 0, 0], [0, 0, 0], [0, 0, 0], [0, 0, 0],\n",
    "                   [0, 0, 0], [0, 0, 0]],\n",
    "                  [[1, 0, 0], [0, 0, 0], [0, 0, 0], [0, 0, 0], [0, 0, 0],\n",
    "                   [0, 0, 0], [0, 0, 0]]]"
   ]
  },
  {
   "attachments": {},
   "cell_type": "markdown",
   "metadata": {},
   "source": [
    "#### 3. Create the model"
   ]
  },
  {
   "attachments": {},
   "cell_type": "markdown",
   "metadata": {},
   "source": [
    "Create the model:"
   ]
  },
  {
   "cell_type": "code",
   "execution_count": 4,
   "metadata": {},
   "outputs": [],
   "source": [
    "model = cp_model.CpModel()"
   ]
  },
  {
   "attachments": {},
   "cell_type": "markdown",
   "metadata": {},
   "source": [
    "#### 4. Create the variables"
   ]
  },
  {
   "attachments": {},
   "cell_type": "markdown",
   "metadata": {},
   "source": [
    "Creates an array of variables:\n",
    "\n",
    "This array aims to assign shifts to nurses such as:\n",
    "- shifts [(n, d, s)] equals 1 if shift \"s\" is assigned to nurse \"n\" on day \"d\", and 0 otherwise."
   ]
  },
  {
   "cell_type": "code",
   "execution_count": 5,
   "metadata": {},
   "outputs": [],
   "source": [
    "#create boolean variables 'shifts' for each combination of nurse, day and shift\n",
    "shifts = {}                     #empty dictionary\n",
    "for n in all_nurses:            #3 nested 'for' loops create the boolean variables and add them to the dictionary\n",
    "    for d in all_days:\n",
    "        for s in all_shifts:\n",
    "            shifts[(n, d,\n",
    "                    s)] = model.NewBoolVar('shift_n%id%is%i' % (n, d, s))"
   ]
  },
  {
   "attachments": {},
   "cell_type": "markdown",
   "metadata": {},
   "source": [
    "#### 5. Assign nurses to shifts"
   ]
  },
  {
   "attachments": {},
   "cell_type": "markdown",
   "metadata": {},
   "source": [
    "Show how to assign nurses to shifts subject to constraints, such as:\n",
    "- each shift is assigned to two nurses per day - Condition 1;\n",
    "- each nurse works at most one shift per day - Condition 2;\n",
    "- the nurse who works the last shift on one day does not work the morning shift on the next day - Condition 3;\n",
    "- the nurse who works the last two consecutive shifts does not work any shift on the next day (no shift) - Condition 4;\n",
    "- the nurse who works on the last two days (days 5 and 6) have a maximum of 2 shifts on previous days - Condition 5.\n"
   ]
  },
  {
   "attachments": {},
   "cell_type": "markdown",
   "metadata": {},
   "source": [
    "Create the first Condition 1:"
   ]
  },
  {
   "cell_type": "code",
   "execution_count": 6,
   "metadata": {},
   "outputs": [],
   "source": [
    "for d in all_days:\n",
    "    for s in all_shifts:\n",
    "        model.Add(sum(shifts[(n, d, s)] for n in all_nurses) == 2)\n",
    " #add a constraint that ensures exactly two nurses are assigned to each shift on each day"
   ]
  },
  {
   "attachments": {},
   "cell_type": "markdown",
   "metadata": {},
   "source": [
    "Create the second Condition 2:"
   ]
  },
  {
   "cell_type": "code",
   "execution_count": 7,
   "metadata": {},
   "outputs": [],
   "source": [
    "for n in all_nurses:\n",
    "    for d in all_days:\n",
    "        model.AddAtMostOne(shifts[(n, d, s)] for s in all_shifts)\n",
    "        #add a constraint that ensures that each nurse is assigned to at most one shift on each day\n",
    "\n",
    "#for each nurse, the sum of shifts assigned to that nurse is at most 1 (\"at most\" because a nurse might have the day off)"
   ]
  },
  {
   "attachments": {},
   "cell_type": "markdown",
   "metadata": {},
   "source": [
    "Create the third Condition 3:"
   ]
  },
  {
   "cell_type": "code",
   "execution_count": 8,
   "metadata": {},
   "outputs": [],
   "source": [
    "for n in all_nurses:\n",
    "    for d in range(num_days - 1):\n",
    "        last_shift_of_day = shifts[(n, d, num_shifts - 1)]\n",
    "        first_shift_of_next_day = shifts[(n, d+1, 0)]\n",
    "        model.Add(last_shift_of_day.Not() + first_shift_of_next_day.Not() >= 1)\n",
    "#the nurse who works the last shift on one day does not work the morning shift on the next day"
   ]
  },
  {
   "attachments": {},
   "cell_type": "markdown",
   "metadata": {},
   "source": [
    "Create the fourth Condition 4:"
   ]
  },
  {
   "cell_type": "code",
   "execution_count": 9,
   "metadata": {},
   "outputs": [],
   "source": [
    "for n in all_nurses:\n",
    "    for d in range(num_days - 2):\n",
    "        last_shift_of_day_0 = shifts[(n, d, num_shifts - 1)]\n",
    "        last_shift_of_day_1 = shifts[(n, d+1, num_shifts - 1)]\n",
    "        any_shift_of_day_2 = sum(shifts[(n, d+2, s)] for s in range(num_shifts))\n",
    "        model.Add(last_shift_of_day_0 + last_shift_of_day_1 + any_shift_of_day_2 <= 2)\n",
    "#the nurse who works the last two consecutive shifts does not work any shift on the next day (no shift)"
   ]
  },
  {
   "attachments": {},
   "cell_type": "markdown",
   "metadata": {},
   "source": [
    "Create the fifth Condition 5:"
   ]
  },
  {
   "cell_type": "code",
   "execution_count": 10,
   "metadata": {},
   "outputs": [],
   "source": [
    "nurses_last_two_days = {}\n",
    "\n",
    "for n in all_nurses:\n",
    "    nurses_last_two_days[n] = model.NewBoolVar(f\"{n}_last_two_days\")\n",
    "    model.Add(shifts[(n, num_days - 1, s)] == 1).OnlyEnforceIf(nurses_last_two_days[n])\n",
    "    model.Add(shifts[(n, num_days - 2, s)] == 1).OnlyEnforceIf(nurses_last_two_days[n])\n",
    "\n",
    "for n in all_nurses:\n",
    "    for d in range(num_days - 2):\n",
    "        model.Add(sum(shifts[(n, d, s)] for s in all_shifts) <= 2).OnlyEnforceIf(nurses_last_two_days[n])\n",
    "\n",
    "#add a constraint that ensures that nurses working on the last two days (days 5 and 6) should have a maximum of 2 shifts on previous days"
   ]
  },
  {
   "attachments": {},
   "cell_type": "markdown",
   "metadata": {},
   "source": [
    "#### 6. Assign shifts evenly"
   ]
  },
  {
   "attachments": {},
   "cell_type": "markdown",
   "metadata": {},
   "source": [
    "Show how to define assignments for shifts to nurses as evenly as possible. During the seven-day period there are twenty-one shifts, so it is possible to assign four shifts to each of the ten nurses. In this way, there will be two shifts left over, which can be assigned to any nurse.  "
   ]
  },
  {
   "cell_type": "code",
   "execution_count": 11,
   "metadata": {},
   "outputs": [],
   "source": [
    "min_shifts_per_nurse = ((num_shifts * num_days) * 2) // num_nurses   #minimum number of shifts that each nurse should be assigned based on the total number of shifts, days, and nurses\n",
    "#shifts to each nurse, but some shifts may be left over. (Here // is the Python integer division operator, which returns the floor of the usual quotient)\n",
    "#if the total number of shifts and days is not evenly divisible by the number of nurses, then some nurses will be assigned one more shift than others\n",
    "\n",
    "if ((num_shifts * num_days) * 2) % num_nurses == 0:\n",
    "    max_shifts_per_nurse = min_shifts_per_nurse\n",
    "else:\n",
    "    max_shifts_per_nurse = min_shifts_per_nurse + 1\n",
    "\n",
    "#assign at least four shifts to each nurse\n",
    "for n in all_nurses:\n",
    "    model.Add(sum(shifts[(n, d, s)] for d in all_days for s in all_shifts) >= min_shifts_per_nurse)\n",
    "    model.Add(sum(shifts[(n, d, s)] for d in all_days for s in all_shifts) <= max_shifts_per_nurse)"
   ]
  },
  {
   "attachments": {},
   "cell_type": "markdown",
   "metadata": {},
   "source": [
    "#### 7. Objective for the problem"
   ]
  },
  {
   "attachments": {},
   "cell_type": "markdown",
   "metadata": {},
   "source": [
    "Serves for optimize the following objective function:\n",
    "- Since shift_requests[n][d][s] * shifts[(n, d, s) is 1 if shift s is assigned to nurse n on day d and that nurse requested that shift (and 0 otherwise), the objective is the number shift of assignments that meet a request."
   ]
  },
  {
   "cell_type": "code",
   "execution_count": 12,
   "metadata": {},
   "outputs": [],
   "source": [
    "model.Maximize(\n",
    "    sum(shift_requests[n][d][s] * shifts[(n, d, s)] for n in all_nurses\n",
    "        for d in all_days for s in all_shifts))"
   ]
  },
  {
   "attachments": {},
   "cell_type": "markdown",
   "metadata": {},
   "source": [
    "#### 8. Invoke the solver"
   ]
  },
  {
   "attachments": {},
   "cell_type": "markdown",
   "metadata": {},
   "source": [
    "Call the solver:"
   ]
  },
  {
   "cell_type": "code",
   "execution_count": 13,
   "metadata": {},
   "outputs": [],
   "source": [
    "solver = cp_model.CpSolver()\n",
    "status = solver.Solve(model)"
   ]
  },
  {
   "attachments": {},
   "cell_type": "markdown",
   "metadata": {},
   "source": [
    "#### 9. Display the results"
   ]
  },
  {
   "attachments": {},
   "cell_type": "markdown",
   "metadata": {},
   "source": [
    "Displays the following output, which contains an optimal schedule. The output shows which shift assignments were requested and the number of requests that were met:"
   ]
  },
  {
   "cell_type": "code",
   "execution_count": 14,
   "metadata": {},
   "outputs": [
    {
     "name": "stdout",
     "output_type": "stream",
     "text": [
      "Solution:\n",
      "Day 0\n",
      "Nurse 0 works shift 1 (not requested).\n",
      "Nurse 5 works shift 2 (not requested).\n",
      "Nurse 6 works shift 0 (not requested).\n",
      "Nurse 7 works shift 2 (not requested).\n",
      "Nurse 8 works shift 1 (not requested).\n",
      "Nurse 9 works shift 0 (requested).\n",
      "\n",
      "Day 1\n",
      "Nurse 1 works shift 0 (not requested).\n",
      "Nurse 5 works shift 1 (not requested).\n",
      "Nurse 6 works shift 0 (not requested).\n",
      "Nurse 7 works shift 1 (not requested).\n",
      "Nurse 8 works shift 2 (not requested).\n",
      "Nurse 9 works shift 2 (not requested).\n",
      "\n",
      "Day 2\n",
      "Nurse 3 works shift 2 (not requested).\n",
      "Nurse 4 works shift 1 (not requested).\n",
      "Nurse 5 works shift 2 (not requested).\n",
      "Nurse 6 works shift 0 (not requested).\n",
      "Nurse 7 works shift 0 (not requested).\n",
      "Nurse 8 works shift 1 (not requested).\n",
      "\n",
      "Day 3\n",
      "Nurse 2 works shift 2 (not requested).\n",
      "Nurse 5 works shift 2 (not requested).\n",
      "Nurse 6 works shift 1 (not requested).\n",
      "Nurse 7 works shift 1 (not requested).\n",
      "Nurse 8 works shift 0 (not requested).\n",
      "Nurse 9 works shift 0 (not requested).\n",
      "\n",
      "Day 4\n",
      "Nurse 0 works shift 2 (not requested).\n",
      "Nurse 1 works shift 1 (requested).\n",
      "Nurse 2 works shift 1 (not requested).\n",
      "Nurse 3 works shift 0 (not requested).\n",
      "Nurse 4 works shift 0 (not requested).\n",
      "Nurse 9 works shift 2 (not requested).\n",
      "\n",
      "Day 5\n",
      "Nurse 0 works shift 1 (not requested).\n",
      "Nurse 1 works shift 1 (not requested).\n",
      "Nurse 2 works shift 2 (not requested).\n",
      "Nurse 3 works shift 0 (not requested).\n",
      "Nurse 4 works shift 0 (not requested).\n",
      "Nurse 9 works shift 2 (not requested).\n",
      "\n",
      "Day 6\n",
      "Nurse 0 works shift 0 (not requested).\n",
      "Nurse 1 works shift 1 (not requested).\n",
      "Nurse 2 works shift 2 (not requested).\n",
      "Nurse 3 works shift 0 (not requested).\n",
      "Nurse 4 works shift 1 (not requested).\n",
      "Nurse 6 works shift 2 (not requested).\n",
      "\n",
      "Number of shift requests met = 2.0 (out of 40)\n"
     ]
    }
   ],
   "source": [
    "if status == cp_model.OPTIMAL:\n",
    "    print('Solution:')\n",
    "    for d in all_days:\n",
    "        print('Day', d)\n",
    "        for n in all_nurses:\n",
    "            for s in all_shifts:\n",
    "                if solver.Value(shifts[(n, d, s)]) == 1:\n",
    "                    if shift_requests[n][d][s] == 1:\n",
    "                        print('Nurse', n, 'works shift', s, '(requested).')\n",
    "                    else:\n",
    "                        print('Nurse', n, 'works shift', s,\n",
    "                              '(not requested).')\n",
    "        print()\n",
    "    print(f'Number of shift requests met = {solver.ObjectiveValue()}',\n",
    "          f'(out of {num_nurses * min_shifts_per_nurse})')\n",
    "else:\n",
    "    print('No optimal solution found !')"
   ]
  },
  {
   "attachments": {},
   "cell_type": "markdown",
   "metadata": {},
   "source": [
    "#### 10. Statistics"
   ]
  },
  {
   "cell_type": "code",
   "execution_count": 15,
   "metadata": {},
   "outputs": [
    {
     "name": "stdout",
     "output_type": "stream",
     "text": [
      "\n",
      "Statistics\n",
      "  - conflicts: 0\n",
      "  - branches : 483\n",
      "  - wall time: 0.041473 s\n"
     ]
    }
   ],
   "source": [
    "print('\\nStatistics')\n",
    "print('  - conflicts: %i' % solver.NumConflicts())\n",
    "print('  - branches : %i' % solver.NumBranches())\n",
    "print('  - wall time: %f s' % solver.WallTime())"
   ]
  }
 ],
 "metadata": {
  "kernelspec": {
   "display_name": "Python 3",
   "language": "python",
   "name": "python3"
  },
  "language_info": {
   "codemirror_mode": {
    "name": "ipython",
    "version": 3
   },
   "file_extension": ".py",
   "mimetype": "text/x-python",
   "name": "python",
   "nbconvert_exporter": "python",
   "pygments_lexer": "ipython3",
   "version": "3.10.7"
  },
  "orig_nbformat": 4
 },
 "nbformat": 4,
 "nbformat_minor": 2
}
